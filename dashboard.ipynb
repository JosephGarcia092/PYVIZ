{
 "cells": [
  {
   "cell_type": "markdown",
   "metadata": {},
   "source": [
    "# San Francisco Rental Prices Dashboard\n",
    "\n",
    "In this notebook, you will compile the visualizations from the previous analysis into functions that can be used for a Panel dashboard."
   ]
  },
  {
   "cell_type": "code",
   "execution_count": null,
   "metadata": {},
   "outputs": [],
   "source": [
    "# imports\n",
    "import panel as pn\n",
    "pn.extension('plotly')\n",
    "import plotly.express as px\n",
    "import pandas as pd\n",
    "import hvplot.pandas\n",
    "import matplotlib.pyplot as plt\n",
    "import os\n",
    "from pathlib import Path\n",
    "from dotenv import load_dotenv"
   ]
  },
  {
   "cell_type": "code",
   "execution_count": null,
   "metadata": {},
   "outputs": [],
   "source": [
    "# Read the Mapbox API key\n",
    "load_dotenv()\n",
    "map_box_api = os.getenv(\"mapbox\")\n",
    "px.set_mapbox_access_token(map_box_api)"
   ]
  },
  {
   "cell_type": "markdown",
   "metadata": {},
   "source": [
    "# Import Data"
   ]
  },
  {
   "cell_type": "code",
   "execution_count": null,
   "metadata": {},
   "outputs": [],
   "source": [
    "# Import the necessary CSVs to Pandas DataFrames\n",
    "file_path = Path(\"Data/sfo_neighborhoods_census_data.csv\")\n",
    "sfo_data = pd.read_csv(file_path, index_col=\"year\")\n",
    "file_path = Path('../Starter_Code/Data/neighborhoods_coordinates.csv')\n",
    "hood_coor = pd.read_csv(file_path)\n"
   ]
  },
  {
   "cell_type": "markdown",
   "metadata": {},
   "source": [
    "- - -"
   ]
  },
  {
   "cell_type": "markdown",
   "metadata": {},
   "source": [
    "## Panel Visualizations\n",
    "\n",
    "In this section, you will copy the code for each plot type from your analysis notebook and place it into separate functions that Panel can use to create panes for the dashboard. \n",
    "\n",
    "These functions will convert the plot object to a Panel pane.\n",
    "\n",
    "Be sure to include any DataFrame transformation/manipulation code required along with the plotting code.\n",
    "\n",
    "Return a Panel pane object from each function that can be used to build the dashboard.\n",
    "\n",
    "Note: Remove any `.show()` lines from the code. We want to return the plots instead of showing them. The Panel dashboard will then display the plots."
   ]
  },
  {
   "cell_type": "code",
   "execution_count": null,
   "metadata": {},
   "outputs": [],
   "source": [
    "# Define Panel Visualization Functions\n",
    "def housing_units_per_year(sfo_data):\n",
    "    \"\"\"Housing Units Per Year.\"\"\"\n",
    "    housing_units = sfo_data.groupby('year').mean()\n",
    "    housing_units = housing_units.drop([\"sale_price_sqr_foot\", \"gross_rent\"], axis=1)\n",
    "    ave_min = housing_units.min()\n",
    "    ave_max = housing_units.max()\n",
    "    ave_std = housing_units.std()\n",
    "    housing_plot = housing_units.hvplot.bar(ylim=[ave_min[0],ave_max[0]]).opts(bgcolor='white')\n",
    "    return housing_plot\n",
    "\n",
    "def average_gross_rent(sfo_data):\n",
    "    \"\"\"Average Gross Rent in San Francisco Per Year.\"\"\"\n",
    "    gross_rent = sfo_data.groupby('year').mean()\n",
    "    gross_rent = gross_rent.drop([\"sale_price_sqr_foot\", \"housing_units\"], axis=1)\n",
    "    gross_plot = gross_rent.hvplot.line()\n",
    "    return gross_plot\n",
    "\n",
    "def average_sales_price(sfo_data):\n",
    "    \"\"\"Average Sales Price Per Year.\"\"\"\n",
    "    sqr_foot = sfo_data.groupby('year').mean()\n",
    "    sqr_foot = sqr_foot.drop([\"housing_units\", \"gross_rent\"], axis=1)\n",
    "    sqr_plot = sqr_foot.hvplot.line()\n",
    "    return sqr_plot\n",
    "\n",
    "def average_price_by_neighborhood(sfo_data):\n",
    "    \"\"\"Average Prices by Neighborhood.\"\"\"\n",
    "    hood_year = sfo_data.groupby(['year', 'neighborhood']).mean()\n",
    "    hood_year_plot = hood_year['sale_price_sqr_foot'].hvplot.bar(\n",
    "    title='Average Price Per Square Foot',\n",
    "    xlabel= \"Year\",\n",
    "    ylabel=\"housing_units\",\n",
    "    groupby=\"neighborhood\")\n",
    "    return hood_year_plot\n",
    "\n",
    "def top_most_expensive_neighborhoods(sfo_data):\n",
    "    \"\"\"Top 10 Most Expensive Neighborhoods.\"\"\"\n",
    "    exp_hoods = sfo_data.groupby([\"neighborhood\"]).mean()\n",
    "    ten_exp_hood = exp_hoods.sort_values('sale_price_sqr_foot', ascending=True).tail(10)\n",
    "    ten_exp_plot = ten_exp_hood.drop(['housing_units', 'gross_rent'], axis=1)\n",
    "    plot = ten_exp_plot.hvplot(kind='bar', rot=90)\n",
    "    return plot\n",
    "\n",
    "def most_expensive_neighborhoods_rent_sales(sfo_data):\n",
    "    \"\"\"Comparison of Rent and Sales Prices of Most Expensive Neighborhoods.\"\"\"\n",
    "    mean_values = sfo_data.groupby(by='neighborhood').mean()\n",
    "    mean_values = mean_values.sort_values('sale_price_sqr_foot', ascending=False).reset_index()\n",
    "    hood_locations = pd.concat([hood_coor, mean_values], axis='columns', join='inner')\n",
    "    hood_map = px.scatter_mapbox(hood_locations,\n",
    "    lat='Lat',\n",
    "    lon='Lon',\n",
    "    color='gross_rent',\n",
    "    color_continuous_scale=px.colors.cyclical.IceFire,\n",
    "    size_max=10,\n",
    "    zoom=10,\n",
    "    hover_name=\"Neighborhood\",\n",
    "    title=\"average sale price per square foot and gross rent in San Francisco\")\n",
    "    hood_map\n",
    "    return hood_map\n",
    "def parallel_coordinates():\n",
    "    \"\"\"Parallel Coordinates Plot.\"\"\"\n",
    "\n",
    "\n",
    "\n",
    "\n",
    "def parallel_categories():\n",
    "    \"\"\"Parallel Categories Plot.\"\"\"\n",
    "    \n",
    "\n",
    "\n",
    "\n",
    "def neighborhood_map():\n",
    "    \"\"\"Neighborhood Map.\"\"\"\n",
    "\n",
    "\n",
    "\n",
    "def sunburst():\n",
    "    \"\"\"Sunburst Plot.\"\"\"\n",
    "    \n"
   ]
  },
  {
   "cell_type": "markdown",
   "metadata": {},
   "source": [
    "## Panel Dashboard\n",
    "\n",
    "In this section, you will combine all of the plots into a single dashboard view using Panel. Be creative with your dashboard design!"
   ]
  },
  {
   "cell_type": "code",
   "execution_count": null,
   "metadata": {},
   "outputs": [],
   "source": [
    "# Create a Title for the Dashboard \n",
    "\n",
    "# Create a tab layout for the dashboard make sure to call the function \n",
    "Housing_Units = pn.Column(\"## Housing Units Per Year\", housing_units_per_year(sfo_data), background)\n",
    "Gross_Rent = pn.Column(\"# Average Gross Rent Per Year\", average_gross_rent(sfo_data))#\n",
    "Average_Sale_Price = pn.Column(\"## Average Sale Price\", average_sales_price(sfo_data))\n",
    "Average_Price_by_Neighborhood = pn.Column(\"## Average Price By Neighborhood\", average_price_by_neighborhood(sfo_data))\n",
    "Top_Ten_Most_Expensive = pn.Column(\"##Top 10 Most Expensive Neighborhoods\", top_most_expensive_neighborhoods(sfo_data))\n",
    "Most_Expensive_Neighborhood_Rent_VS_Sale_Prices = pn.Column(\"## most expensive neighborhoods rent sales\",\n",
    "                                                            most_expensive_neighborhoods_rent_sales(sfo_data))\n",
    "\n",
    "# Create the dashboar\n",
    "Neighborhood_Dash = pn.Tabs((\"Housing Units Per Year\", Housing_Units),\n",
    "                            (\"Average Gross Rent in San Francisco Per Year.\", Gross_Rent), \n",
    "                            (\"Average Sales Price Per Year\", Average_Sale_Price),\n",
    "                            (\"Average Prices by Neighborhood\", Average_Price_by_Neighborhood),\n",
    "                            (\"Top 10 Most Expensive Neighborhoods\", Top_Ten_Most_Expensive), \n",
    "                            (\"Comparison of Rent and Sales Prices of Most Expensive Neighborhoods\", Most_Expensive_Neighborhood_Rent_VS_Sale_Prices))\n",
    "                            \n"
   ]
  },
  {
   "cell_type": "markdown",
   "metadata": {},
   "source": [
    "## Serve the Panel Dashboard"
   ]
  },
  {
   "cell_type": "code",
   "execution_count": null,
   "metadata": {},
   "outputs": [],
   "source": [
    "# Serve the# dashboard\n",
    "Neighborhood_Dash.servable()"
   ]
  },
  {
   "cell_type": "markdown",
   "metadata": {},
   "source": [
    "# Debugging\n",
    "\n",
    "Note: Some of the Plotly express plots may not render in the notebook through the panel functions.\n",
    "\n",
    "However, you can test each plot by uncommenting the following code"
   ]
  },
  {
   "cell_type": "code",
   "execution_count": null,
   "metadata": {},
   "outputs": [],
   "source": [
    "# housing_units_per_year()\n",
    "housing_units_per_year(sfo_data)"
   ]
  },
  {
   "cell_type": "code",
   "execution_count": null,
   "metadata": {},
   "outputs": [],
   "source": [
    "# average_gross_rent()\n",
    "average_gross_rent(sfo_data)"
   ]
  },
  {
   "cell_type": "code",
   "execution_count": null,
   "metadata": {},
   "outputs": [],
   "source": [
    "# average_sales_price()\n",
    "average_sales_price(sfo_data)"
   ]
  },
  {
   "cell_type": "code",
   "execution_count": null,
   "metadata": {},
   "outputs": [],
   "source": [
    "# average_price_by_neighborhood()\n",
    "average_price_by_neighborhood(sfo_data)"
   ]
  },
  {
   "cell_type": "code",
   "execution_count": null,
   "metadata": {},
   "outputs": [],
   "source": [
    "# top_most_expensive_neighborhoods()\n",
    "top_most_expensive_neighborhoods(sfo_data)"
   ]
  },
  {
   "cell_type": "code",
   "execution_count": null,
   "metadata": {},
   "outputs": [],
   "source": [
    "# most_expensive_neighborhoods_rent_sales()\n",
    "most_expensive_neighborhoods_rent_sales(sfo_data)"
   ]
  },
  {
   "cell_type": "code",
   "execution_count": null,
   "metadata": {},
   "outputs": [],
   "source": [
    "#hood_P_RI = sfo_data.groupby(['year', 'neighborhood']).mean()\n",
    "    #hood_p_RI_plot = hood_P_RI.hvplot.bar(groupby='neighborhood', y=['sale_price_sqr_foot', 'gross_rent'], ylabel='number of housing units', xlabel='neighborhood', rot=90)\n",
    "   # this is a second way of doing it\n",
    "    #return hood_p_RI_plot"
   ]
  },
  {
   "cell_type": "code",
   "execution_count": null,
   "metadata": {},
   "outputs": [],
   "source": [
    "# neighborhood_map().show()"
   ]
  },
  {
   "cell_type": "code",
   "execution_count": null,
   "metadata": {},
   "outputs": [],
   "source": [
    "# parallel_categories()"
   ]
  },
  {
   "cell_type": "code",
   "execution_count": null,
   "metadata": {},
   "outputs": [],
   "source": [
    "# parallel_coordinates()"
   ]
  },
  {
   "cell_type": "code",
   "execution_count": null,
   "metadata": {},
   "outputs": [],
   "source": [
    "# sunburst()"
   ]
  }
 ],
 "metadata": {
  "file_extension": ".py",
  "kernelspec": {
   "display_name": "Python 3 (ipykernel)",
   "language": "python",
   "name": "python3"
  },
  "language_info": {
   "codemirror_mode": {
    "name": "ipython",
    "version": 3
   },
   "file_extension": ".py",
   "mimetype": "text/x-python",
   "name": "python",
   "nbconvert_exporter": "python",
   "pygments_lexer": "ipython3",
   "version": "3.9.7"
  },
  "mimetype": "text/x-python",
  "name": "python",
  "npconvert_exporter": "python",
  "pygments_lexer": "ipython3",
  "version": 3
 },
 "nbformat": 4,
 "nbformat_minor": 4
}
